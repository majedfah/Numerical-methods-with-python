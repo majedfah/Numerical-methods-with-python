{
 "cells": [
  {
   "cell_type": "code",
   "execution_count": 2,
   "metadata": {},
   "outputs": [],
   "source": [
    "import numpy as np \n",
    "import matplotlib.pyplot as plt\n",
    "import sympy as sy \n",
    "import scipy.optimize as so\n",
    "%matplotlib inline\n"
   ]
  },
  {
   "cell_type": "markdown",
   "metadata": {},
   "source": [
    "## **Taylor Series**\n",
    "\n",
    "- **A Taylor series expansion** *is a representaion of a function by an infinite series of polynomials around a point.*\n",
    " \n",
    "- $f\\left(x\\right) = \\sum\\limits_{n=0}^{\\infty} {\\frac {f(0)^n  x^n}{n!}}$\n",
    "\n",
    " - *Which is the Maclurin Series when $x=a$*, that we will use here. \n"
   ]
  },
  {
   "cell_type": "markdown",
   "metadata": {},
   "source": [
    "- *Compute the Taylor series expansion of $f(x) = 5x^2+3x+5$,around ,$a = 0$ and $a =1$.*"
   ]
  },
  {
   "cell_type": "code",
   "execution_count": 5,
   "metadata": {},
   "outputs": [
    {
     "data": {
      "image/png": "[encoded data removed]",
      "text/plain": [
       "<Figure size 720x576 with 1 Axes>"
      ]
     },
     "metadata": {},
     "output_type": "display_data"
    }
   ],
   "source": [
    "x = np.linspace(-2*np.pi,2*np.pi,200)\n",
    "y = np.zeros(len(x))\n",
    "y_1 = 5*x**2+3*x+5\n",
    "y_2 = 10*x+3\n",
    "y_3 = 10\n",
    "plt.style.use('seaborn')\n",
    "fig = plt.figure(figsize=(10,8))\n",
    "ax = fig.add_subplot(1,1,1)\n",
    "ax.spines['left'].set_position('center')\n",
    "ax.spines['bottom'].set_position('center')\n",
    "plt.plot(x,y_1,'k')\n",
    "plt.plot(x,y_2,'g')\n",
    "plt.xlim(-7,7)\n",
    "plt.ylim(-100,100)\n",
    "ax.xaxis.set_ticks(np.arange(-7,7,1))\n",
    "ax.yaxis.set_ticks(np.arange(-100,100,10))\n",
    "\n",
    "plt.grid()\n",
    "plt.show()"
   ]
  },
  {
   "cell_type": "markdown",
   "metadata": {},
   "source": [
    "-*Approximate $e^2$ using different order Taylor series and print out the results.*\n",
    "\n",
    "\n",
    "- $e^x = \\sum\\limits_{n=0}^{\\infty} \\frac {x^n} {n!}$"
   ]
  },
  {
   "cell_type": "code",
   "execution_count": 6,
   "metadata": {},
   "outputs": [
    {
     "name": "stdout",
     "output_type": "stream",
     "text": [
      "1.0\n",
      "3.0\n",
      "5.0\n",
      "6.333333333333333\n",
      "7.0\n",
      "7.266666666666667\n",
      "7.355555555555555\n",
      "7.3809523809523805\n",
      "7.387301587301587\n",
      "7.3887125220458545\n",
      "7.388994708994708\n",
      "7.389046015712681\n",
      "7.3890545668323435\n",
      "7.389055882389215\n",
      "7.3890560703259105\n",
      "7.389056095384136\n",
      "7.389056098516415\n",
      "7.389056098884918\n",
      "7.389056098925863\n",
      "7.3890560989301735\n",
      "7.389056098930604\n",
      "7.389056098930645\n",
      "7.389056098930649\n",
      "7.389056098930649\n",
      "7.389056098930649\n",
      "7.389056098930649\n",
      "7.389056098930649\n",
      "7.389056098930649\n",
      "7.389056098930649\n",
      "7.389056098930649\n",
      "analatical =  7.389056098930649\n",
      "real =  7.38905609893065\n",
      "error =  1.7763568394002505e-15\n"
     ]
    }
   ],
   "source": [
    "exp = 0 \n",
    "x = 2 \n",
    "for i in range(30):\n",
    "    exp = exp + (x**i)/np.math.factorial(i)\n",
    "    print(exp)\n",
    "print('analatical = ',exp)\n",
    "print('real = ',np.exp(2))\n",
    "print('error = ',abs(np.exp(2)-exp))"
   ]
  },
  {
   "cell_type": "code",
   "execution_count": 7,
   "metadata": {},
   "outputs": [
    {
     "data": {
      "text/latex": [
       "$\\displaystyle 1 + x + x^{2} + x^{3} + x^{4} + x^{5} + x^{6} + x^{7} + O\\left(x^{8}\\right)$"
      ],
      "text/plain": [
       "1 + x + x**2 + x**3 + x**4 + x**5 + x**6 + x**7 + O(x**8)"
      ]
     },
     "execution_count": 4,
     "metadata": {},
     "output_type": "execute_result"
    }
   ],
   "source": [
    "x = sy.Symbol('x')\n",
    "sy.series(1/(1-x),n=8)"
   ]
  },
  {
   "cell_type": "code",
   "execution_count": 8,
   "metadata": {},
   "outputs": [
    {
     "data": {
      "text/latex": [
       "$\\displaystyle x + x^{2} + x^{3} + x^{4} + x^{5} + x^{6} + x^{7} + O\\left(x^{8}\\right)$"
      ],
      "text/plain": [
       "x + x**2 + x**3 + x**4 + x**5 + x**6 + x**7 + O(x**8)"
      ]
     },
     "execution_count": 5,
     "metadata": {},
     "output_type": "execute_result"
    }
   ],
   "source": [
    "\n",
    "sy.series(x/(1-x),n=8)\n"
   ]
  },
  {
   "cell_type": "code",
   "execution_count": 9,
   "metadata": {},
   "outputs": [
    {
     "data": {
      "text/latex": [
       "$\\displaystyle x - \\frac{x^{3}}{6} + O\\left(x^{4}\\right)$"
      ],
      "text/plain": [
       "x - x**3/6 + O(x**4)"
      ]
     },
     "execution_count": 6,
     "metadata": {},
     "output_type": "execute_result"
    }
   ],
   "source": [
    "sy.series(sy.sin(x),n=4)"
   ]
  },
  {
   "cell_type": "code",
   "execution_count": 10,
   "metadata": {},
   "outputs": [
    {
     "data": {
      "text/latex": [
       "$\\displaystyle 1 - \\frac{x^{2}}{2} + \\frac{x^{4}}{24} - \\frac{x^{6}}{720} + \\frac{x^{8}}{40320} + O\\left(x^{9}\\right)$"
      ],
      "text/plain": [
       "1 - x**2/2 + x**4/24 - x**6/720 + x**8/40320 + O(x**9)"
      ]
     },
     "execution_count": 7,
     "metadata": {},
     "output_type": "execute_result"
    }
   ],
   "source": [
    "sy.series(sy.cos(x),n=9)"
   ]
  },
  {
   "cell_type": "code",
   "execution_count": 11,
   "metadata": {},
   "outputs": [
    {
     "data": {
      "text/latex": [
       "$\\displaystyle 1 + x + \\frac{x^{2}}{2} + \\frac{x^{3}}{6} + \\frac{x^{4}}{24} + \\frac{x^{5}}{120} + \\frac{x^{6}}{720} + \\frac{x^{7}}{5040} + \\frac{x^{8}}{40320} + O\\left(x^{9}\\right)$"
      ],
      "text/plain": [
       "1 + x + x**2/2 + x**3/6 + x**4/24 + x**5/120 + x**6/720 + x**7/5040 + x**8/40320 + O(x**9)"
      ]
     },
     "execution_count": 8,
     "metadata": {},
     "output_type": "execute_result"
    }
   ],
   "source": [
    "sy.series(sy.exp(x),n=9)"
   ]
  },
  {
   "cell_type": "code",
   "execution_count": 12,
   "metadata": {},
   "outputs": [
    {
     "data": {
      "text/latex": [
       "$\\displaystyle x - \\frac{x^{2}}{2} + \\frac{x^{3}}{3} - \\frac{x^{4}}{4} + \\frac{x^{5}}{5} - \\frac{x^{6}}{6} + \\frac{x^{7}}{7} - \\frac{x^{8}}{8} + O\\left(x^{9}\\right)$"
      ],
      "text/plain": [
       "x - x**2/2 + x**3/3 - x**4/4 + x**5/5 - x**6/6 + x**7/7 - x**8/8 + O(x**9)"
      ]
     },
     "execution_count": 9,
     "metadata": {},
     "output_type": "execute_result"
    }
   ],
   "source": [
    "sy.series(sy.ln(1+x),n=9)"
   ]
  },
  {
   "cell_type": "code",
   "execution_count": 24,
   "metadata": {},
   "outputs": [
    {
     "data": {
      "text/latex": [
       "$\\displaystyle 1 - \\frac{x^{2}}{2} + \\frac{x^{4}}{24} - \\frac{x^{6}}{720} + \\frac{x^{8}}{40320} - \\frac{x^{10}}{3628800} + \\frac{x^{12}}{479001600} - \\frac{x^{14}}{87178291200} + O\\left(x^{15}\\right)$"
      ],
      "text/plain": [
       "1 - x**2/2 + x**4/24 - x**6/720 + x**8/40320 - x**10/3628800 + x**12/479001600 - x**14/87178291200 + O(x**15)"
      ]
     },
     "execution_count": 21,
     "metadata": {},
     "output_type": "execute_result"
    }
   ],
   "source": [
    "sy.series(sy.cos(x),n=15)"
   ]
  },
  {
   "cell_type": "code",
   "execution_count": 25,
   "metadata": {},
   "outputs": [
    {
     "name": "stdout",
     "output_type": "stream",
     "text": [
      "1.0\n",
      "-3.934802200544679\n",
      "0.1239099258720886\n",
      "-1.2113528429825007\n",
      "-0.9760222126236076\n",
      "-1.0018291040136216\n",
      "-0.9998995297042177\n",
      "-1.0000041678091425\n",
      "-0.9999998647395555\n",
      "-1.0000000035290801\n"
     ]
    }
   ],
   "source": [
    "y = 0 \n",
    "x = np.pi\n",
    "for n in range(10):\n",
    "    y = y + ((-1)**n*(x**(2*n))/(np.math.factorial(2*n)))\n",
    "    print(y)"
   ]
  },
  {
   "cell_type": "code",
   "execution_count": 27,
   "metadata": {},
   "outputs": [
    {
     "name": "stdout",
     "output_type": "stream",
     "text": [
      "1.0\n",
      "0.9878407820314619\n",
      "0.9878654231283963\n",
      "0.9878654031539651\n",
      "0.9878654031626392\n",
      "0.9878654031626368\n",
      "0.9878654031626368\n",
      "0.9878654031626368\n",
      "0.9878654031626368\n",
      "0.9878654031626368\n",
      "0.9878654031626368\n",
      "0.9878654031626368\n",
      "0.9878654031626368\n",
      "0.9878654031626368\n",
      "0.9878654031626368\n",
      "0.9878654031626368\n",
      "0.9878654031626368\n",
      "0.9878654031626368\n",
      "0.9878654031626368\n",
      "0.9878654031626368\n"
     ]
    }
   ],
   "source": [
    "x = np.cos(np.sqrt(2))\n",
    "y = 0 \n",
    "for n in range(20):\n",
    "    y = y + ((-1)**n*(x)**(2*n)/(np.math.factorial(2*n)))\n",
    "    print(y)"
   ]
  },
  {
   "cell_type": "code",
   "execution_count": 28,
   "metadata": {},
   "outputs": [
    {
     "data": {
      "text/latex": [
       "$\\displaystyle x - \\frac{x^{3}}{6} + \\frac{x^{5}}{120} - \\frac{x^{7}}{5040} + O\\left(x^{8}\\right)$"
      ],
      "text/plain": [
       "x - x**3/6 + x**5/120 - x**7/5040 + O(x**8)"
      ]
     },
     "execution_count": 25,
     "metadata": {},
     "output_type": "execute_result"
    }
   ],
   "source": [
    "x = sy.Symbol('x')\n",
    "sy.series(sy.sin(x),n=8)"
   ]
  },
  {
   "cell_type": "markdown",
   "metadata": {},
   "source": [
    "- *Series expansion of $f(x) = e^x cos(x)$*"
   ]
  },
  {
   "cell_type": "code",
   "execution_count": 29,
   "metadata": {},
   "outputs": [
    {
     "data": {
      "text/latex": [
       "$\\displaystyle 1 + x - \\frac{x^{3}}{3} - \\frac{x^{4}}{6} - \\frac{x^{5}}{30} + O\\left(x^{6}\\right)$"
      ],
      "text/plain": [
       "1 + x - x**3/3 - x**4/6 - x**5/30 + O(x**6)"
      ]
     },
     "execution_count": 26,
     "metadata": {},
     "output_type": "execute_result"
    }
   ],
   "source": [
    "# multiplication of series with some function!\n",
    "sy.series((sy.exp(x))*(sy.cos(x)))"
   ]
  },
  {
   "cell_type": "code",
   "execution_count": 30,
   "metadata": {},
   "outputs": [],
   "source": [
    "def my_double_exp(x,n):\n",
    "    exp = 0\n",
    "    for n in range(len(n)):\n",
    "        double_exp = exp + (x**(2*n))/(np.math.factorial(n))\n",
    "        print(double_exp)\n"
   ]
  },
  {
   "cell_type": "code",
   "execution_count": 31,
   "metadata": {},
   "outputs": [
    {
     "name": "stdout",
     "output_type": "stream",
     "text": [
      "1.0\n",
      "9.869604401089358\n",
      "48.70454551700121\n",
      "160.2315322625507\n"
     ]
    }
   ],
   "source": [
    "my_double_exp(np.pi,[1,2,3,4])"
   ]
  },
  {
   "cell_type": "code",
   "execution_count": 32,
   "metadata": {},
   "outputs": [
    {
     "data": {
      "text/latex": [
       "$\\displaystyle x - \\frac{x^{3}}{6} + \\frac{x^{5}}{120} - \\frac{x^{7}}{5040} + O\\left(x^{8}\\right)$"
      ],
      "text/plain": [
       "x - x**3/6 + x**5/120 - x**7/5040 + O(x**8)"
      ]
     },
     "execution_count": 29,
     "metadata": {},
     "output_type": "execute_result"
    }
   ],
   "source": [
    "x = sy.Symbol('x')\n",
    "sy.series(sy.sin(x),n=8)"
   ]
  },
  {
   "cell_type": "code",
   "execution_count": 33,
   "metadata": {},
   "outputs": [
    {
     "name": "stdout",
     "output_type": "stream",
     "text": [
      "3.141592653589793\n",
      "-2.0261201264601763\n",
      "0.5240439134171688\n",
      "-0.07522061590362306\n",
      "0.006925270707505135\n",
      "-0.00044516023820921277\n",
      "2.1142567558399565e-05\n",
      "-7.727858894306387e-07\n",
      "2.2419510716912098e-08\n",
      "-5.28918280357759e-10\n",
      "1.0348185903053497e-11\n"
     ]
    }
   ],
   "source": [
    "x = np.pi \n",
    "y = 0\n",
    "\n",
    "for n in range(11):\n",
    "    y = y + ((-1)**n*(x)**(2*n+1)/(np.math.factorial(2*n+1)))\n",
    "    print(y)"
   ]
  },
  {
   "cell_type": "code",
   "execution_count": 41,
   "metadata": {},
   "outputs": [
    {
     "data": {
      "text/latex": [
       "$\\displaystyle x^{5} + 5 x^{4} + 10 x^{3} + 10 x^{2} + 5 x + 1$"
      ],
      "text/plain": [
       "x**5 + 5*x**4 + 10*x**3 + 10*x**2 + 5*x + 1"
      ]
     },
     "execution_count": 38,
     "metadata": {},
     "output_type": "execute_result"
    }
   ],
   "source": [
    "x = sy.Symbol('x')\n",
    "n = sy.Symbol('n')\n",
    "sy.series((1+x)**5)"
   ]
  },
  {
   "cell_type": "code",
   "execution_count": 13,
   "metadata": {},
   "outputs": [
    {
     "name": "stdout",
     "output_type": "stream",
     "text": [
      "using 0-term,1.0\n",
      "using 1-term,3.0\n",
      "using 2-term,5.0\n",
      "using 3-term,6.333333333333333\n",
      "using 4-term,7.0\n",
      "using 5-term,7.266666666666667\n",
      "using 6-term,7.355555555555555\n",
      "using 7-term,7.3809523809523805\n",
      "using 8-term,7.387301587301587\n",
      "using 9-term,7.3887125220458545\n",
      "using 10-term,7.388994708994708\n",
      "using 11-term,7.389046015712681\n",
      "using 12-term,7.3890545668323435\n",
      "using 13-term,7.389055882389215\n",
      "using 14-term,7.3890560703259105\n",
      "The true value of e^2 is : 7.38905609893065\n",
      "0.010603124999988722\n"
     ]
    }
   ],
   "source": [
    "# approximating e^2 using Taylor series of different order \n",
    "import time \n",
    "start = time.perf_counter() \n",
    "\n",
    "exp = 0\n",
    "x = 2 \n",
    "\n",
    "for i in range(15):\n",
    "    exp = exp + ((x**i)/(np.math.factorial(i)))\n",
    "    print(f'using {i}-term,{exp}')\n",
    "print(f'The true value of e^2 is :',np.exp(2))\n",
    "\n",
    "end = time.perf_counter()\n",
    "wall_time = end - start\n",
    "print(wall_time)"
   ]
  },
  {
   "cell_type": "code",
   "execution_count": 15,
   "metadata": {},
   "outputs": [
    {
     "data": {
      "text/plain": [
       "0.0003435768847959153"
      ]
     },
     "execution_count": 12,
     "metadata": {},
     "output_type": "execute_result"
    }
   ],
   "source": [
    "abs((7.3887125220458545)-(np.exp(2)))\n",
    "# this is the error of n=9 and the real value of exp(2)"
   ]
  },
  {
   "cell_type": "code",
   "execution_count": 143,
   "metadata": {},
   "outputs": [
    {
     "name": "stdout",
     "output_type": "stream",
     "text": [
      "-sin(x)\n",
      "cos(x)\n"
     ]
    }
   ],
   "source": [
    "x1,y = sy.symbols('x y')\n",
    "print(sy.diff(sy.cos(x)))\n",
    "print(sy.diff(sy.sin(x)))"
   ]
  },
  {
   "cell_type": "code",
   "execution_count": 1,
   "metadata": {},
   "outputs": [
    {
     "ename": "NameError",
     "evalue": "name 'np' is not defined",
     "output_type": "error",
     "traceback": [
      "\u001b[0;31m---------------------------------------------------------------------------\u001b[0m",
      "\u001b[0;31mNameError\u001b[0m                                 Traceback (most recent call last)",
      "\u001b[0;32m<ipython-input-1-a31aff77d71c>\u001b[0m in \u001b[0;36m<module>\u001b[0;34m\u001b[0m\n\u001b[0;32m----> 1\u001b[0;31m \u001b[0mx\u001b[0m \u001b[0;34m=\u001b[0m \u001b[0mnp\u001b[0m\u001b[0;34m.\u001b[0m\u001b[0mlinspace\u001b[0m\u001b[0;34m(\u001b[0m\u001b[0;34m-\u001b[0m\u001b[0mnp\u001b[0m\u001b[0;34m.\u001b[0m\u001b[0mpi\u001b[0m\u001b[0;34m,\u001b[0m\u001b[0mnp\u001b[0m\u001b[0;34m.\u001b[0m\u001b[0mpi\u001b[0m\u001b[0;34m,\u001b[0m\u001b[0;36m100\u001b[0m\u001b[0;34m)\u001b[0m\u001b[0;34m\u001b[0m\u001b[0;34m\u001b[0m\u001b[0m\n\u001b[0m\u001b[1;32m      2\u001b[0m \u001b[0my\u001b[0m \u001b[0;34m=\u001b[0m \u001b[0mnp\u001b[0m\u001b[0;34m.\u001b[0m\u001b[0mzeros\u001b[0m\u001b[0;34m(\u001b[0m\u001b[0mlen\u001b[0m\u001b[0;34m(\u001b[0m\u001b[0mx\u001b[0m\u001b[0;34m)\u001b[0m\u001b[0;34m)\u001b[0m\u001b[0;34m\u001b[0m\u001b[0;34m\u001b[0m\u001b[0m\n\u001b[1;32m      3\u001b[0m \u001b[0mlabels\u001b[0m \u001b[0;34m=\u001b[0m \u001b[0;34m[\u001b[0m\u001b[0;34m'$f(x)$ Order'\u001b[0m\u001b[0;34m,\u001b[0m\u001b[0;34m'$f(x)^2$ Order'\u001b[0m\u001b[0;34m,\u001b[0m\u001b[0;34m'$f(x)^4$ Order'\u001b[0m\u001b[0;34m,\u001b[0m\u001b[0;34m'$f(x)^6 Order$'\u001b[0m\u001b[0;34m]\u001b[0m\u001b[0;34m\u001b[0m\u001b[0;34m\u001b[0m\u001b[0m\n\u001b[1;32m      4\u001b[0m \u001b[0;34m\u001b[0m\u001b[0m\n\u001b[1;32m      5\u001b[0m \u001b[0mfig\u001b[0m \u001b[0;34m=\u001b[0m \u001b[0mplt\u001b[0m\u001b[0;34m.\u001b[0m\u001b[0mfigure\u001b[0m\u001b[0;34m(\u001b[0m\u001b[0mfigsize\u001b[0m\u001b[0;34m=\u001b[0m\u001b[0;34m(\u001b[0m\u001b[0;36m11\u001b[0m\u001b[0;34m,\u001b[0m\u001b[0;36m6\u001b[0m\u001b[0;34m)\u001b[0m\u001b[0;34m)\u001b[0m\u001b[0;34m\u001b[0m\u001b[0;34m\u001b[0m\u001b[0m\n",
      "\u001b[0;31mNameError\u001b[0m: name 'np' is not defined"
     ]
    }
   ],
   "source": [
    "x = np.linspace(-np.pi,np.pi,100)\n",
    "y = np.zeros(len(x))\n",
    "labels = ['$f(x)$ Order','$f(x)^2$ Order','$f(x)^4$ Order','$f(x)^6 Order$']\n",
    "\n",
    "fig = plt.figure(figsize=(11,6))\n",
    "\n",
    "for n,label in zip(range(6),labels):\n",
    "    y = y + ((-1)**n*(x)**(2*n)/np.math.factorial(2*n))\n",
    "    plt.plot(x,y,label=label)\n",
    "\n",
    "plt.plot(x,np.cos(x),'k',label='Analatical')\n",
    "plt.title('Taylor Series Approximation of $cos(\\pi)$')\n",
    "plt.grid('on')\n",
    "plt.legend(loc = 'best')\n",
    "plt.show()"
   ]
  },
  {
   "cell_type": "code",
   "execution_count": 140,
   "metadata": {},
   "outputs": [
    {
     "data": {
      "image/png": "[encoded data removed]",
      "text/plain": [
       "<Figure size 792x576 with 4 Axes>"
      ]
     },
     "metadata": {
      "needs_background": "light"
     },
     "output_type": "display_data"
    }
   ],
   "source": [
    "fig = plt.figure(figsize=(11,8))\n",
    "\n",
    "n= np.linspace(-2,1.5,100)\n",
    "Y = np.exp(n)*np.cos(n)\n",
    "\n",
    "\n",
    "\n",
    "ax1 = fig.add_subplot(221)\n",
    "y1 = 1 + n \n",
    "ax1.spines['bottom'].set_position('center')\n",
    "ax1.spines['left'].set_position('center')\n",
    "ax1.plot(n,y1,'b',label='First approximation')\n",
    "ax1.plot(n,Y,'k',label='Real')\n",
    "ax1.legend()\n",
    "plt.title('Taylor Approximation $S_1=1+n$')\n",
    "\n",
    "\n",
    "ax2 = fig.add_subplot(222)\n",
    "y2 = 1 + n - (n**3)/(3)\n",
    "ax2.plot(n,y2,'r--',n,Y,'k--')\n",
    "plt.title('Taylor Approximation $S_3 = 1+n-n^3/3$')\n",
    "\n",
    "ax3 = fig.add_subplot(223)\n",
    "y3 = (1 + n)- (n**3)/(3) - (n**4)/(6)\n",
    "ax3.plot(n,y3,'g--',n,Y,'k--')\n",
    "plt.title('Taylor Approximation $S_4 = 1+n-n^3/3-n^4/6$')\n",
    "\n",
    "ax4 = fig.add_subplot(224)\n",
    "y4 = 1 + n- (n**3)/(3) - (n**4)/(6) - (n**5)/(30)\n",
    "ax4.plot(n,y4,'y',n,Y,'k')\n",
    "plt.title('Taylor Approximation $S_5 = 1+n-n^3/3-n^4/6-n^5/30$')\n",
    "\n",
    "plt.grid('on')\n",
    "plt.tight_layout()\n",
    "plt.show()"
   ]
  },
  {
   "cell_type": "code",
   "execution_count": null,
   "metadata": {},
   "outputs": [],
   "source": []
  }
 ],
 "metadata": {
  "interpreter": {
   "hash": "0fa1be1a079c5715466ca32bd30e38be88abe58e4d0b13338080b10021663522"
  },
  "kernelspec": {
   "display_name": "Python 3",
   "language": "python",
   "name": "python3"
  },
  "language_info": {
   "codemirror_mode": {
    "name": "ipython",
    "version": 3
   },
   "file_extension": ".py",
   "mimetype": "text/x-python",
   "name": "python",
   "nbconvert_exporter": "python",
   "pygments_lexer": "ipython3",
   "version": "3.8.5"
  }
 },
 "nbformat": 4,
 "nbformat_minor": 4
}
