{
 "cells": [
  {
   "cell_type": "code",
   "execution_count": 1,
   "metadata": {},
   "outputs": [],
   "source": [
    "import numpy as np \n",
    "import matplotlib.pyplot as plt\n",
    "import sympy as sy \n",
    "import scipy.optimize as so"
   ]
  },
  {
   "cell_type": "markdown",
   "metadata": {},
   "source": [
    "## **Taylor Series**\n",
    "\n",
    "- **A Taylor series expansion** *is a representaion of a function by an infinite series of polynomials around a point.*\n",
    "\n",
    "- $$f\\left(x\\right) = \\sum\\limits_{n=0}^{\\infty} {f^\\left(n\\right)\\left(a\\right)\\left(x-a\\right)^n \\over {n!}}$$"
   ]
  },
  {
   "cell_type": "markdown",
   "metadata": {},
   "source": [
    "- *Compute the Taylor series expansion of $f(x) = 5x^2+3x+5$,around ,$a = 0$ and $a =1$.*"
   ]
  },
  {
   "cell_type": "code",
   "execution_count": null,
   "metadata": {},
   "outputs": [],
   "source": [
    "x = np.linspace(-2*np.pi,2*np.pi,200)\n",
    "y = np.zeros(len(x))\n",
    "y_1 = 5*x**2+3*x+5\n",
    "y_2 = 10*x+3\n",
    "y_3 = 10\n",
    "fig = plt.figure(figsize=(10,8))\n",
    "ax = fig.add_subplot(1,1,1)\n",
    "ax.spines['left'].set_position('center')\n",
    "ax.spines['bottom'].set_position('center')\n",
    "plt.plot(x,y_1,'k')\n",
    "plt.plot(x,y_2,'g')\n",
    "plt.xlim(-7,7)\n",
    "plt.ylim(-100,100)\n",
    "ax.xaxis.set_ticks(np.arange(-7,7,1))\n",
    "ax.yaxis.set_ticks(np.arange(-100,100,10))\n",
    "\n",
    "plt.grid()\n",
    "plt.show()"
   ]
  },
  {
   "cell_type": "markdown",
   "metadata": {},
   "source": [
    "-*Approximate $e^2$ using different order Taylor series and print out the results.*\n",
    "- $$e^x = \\sum\\limits_{n=0}^{\\infty} \\frac {x^n} {n!}$$"
   ]
  },
  {
   "cell_type": "code",
   "execution_count": null,
   "metadata": {},
   "outputs": [],
   "source": [
    "exp = 0 \n",
    "x = 2 \n",
    "for i in range(30):\n",
    "    exp = exp + (x**i)/np.math.factorial(i)\n",
    "    print(exp)\n",
    "print('analatical = ',exp)\n",
    "print('real = ',np.exp(2))\n",
    "print('error = ',abs(np.exp(2)-exp))"
   ]
  },
  {
   "cell_type": "code",
   "execution_count": null,
   "metadata": {},
   "outputs": [],
   "source": [
    "x = sy.Symbol('x')\n",
    "sy.series(1/(1-x),n=8)"
   ]
  },
  {
   "cell_type": "code",
   "execution_count": null,
   "metadata": {},
   "outputs": [],
   "source": [
    "\n",
    "sy.series(x/(1-x),n=8)\n"
   ]
  },
  {
   "cell_type": "code",
   "execution_count": null,
   "metadata": {},
   "outputs": [],
   "source": [
    "sy.series(sy.sin(x),n=4)"
   ]
  },
  {
   "cell_type": "code",
   "execution_count": null,
   "metadata": {},
   "outputs": [],
   "source": [
    "sy.series(sy.cos(x),n=9)"
   ]
  },
  {
   "cell_type": "code",
   "execution_count": null,
   "metadata": {},
   "outputs": [],
   "source": [
    "sy.series(sy.exp(x),n=9)"
   ]
  },
  {
   "cell_type": "code",
   "execution_count": null,
   "metadata": {},
   "outputs": [],
   "source": [
    "sy.series(sy.ln(1+x),n=9)"
   ]
  },
  {
   "cell_type": "code",
   "execution_count": null,
   "metadata": {},
   "outputs": [],
   "source": [
    "1**-2"
   ]
  },
  {
   "cell_type": "code",
   "execution_count": null,
   "metadata": {},
   "outputs": [],
   "source": [
    "1**-2"
   ]
  },
  {
   "cell_type": "code",
   "execution_count": null,
   "metadata": {},
   "outputs": [],
   "source": [
    "# this code is to compute the maclaurin series for ln(1+x)\n",
    "\n",
    "x = 1 \n",
    "for i in range(1,30):\n",
    "    x = x + ((-1)**i-1*(x)**i/(i))\n",
    "    print(x)"
   ]
  },
  {
   "cell_type": "code",
   "execution_count": null,
   "metadata": {},
   "outputs": [],
   "source": [
    "plt.style.use('classic')\n",
    "x = np.linspace(-2*np.pi,2*np.pi)\n",
    "y = np.log(1+x)\n",
    "fig = plt.figure(figsize=(10,8))\n",
    "ax = fig.add_subplot(1,1,1)\n",
    "ax.spines['left'].set_position('center')\n",
    "ax.spines['bottom'].set_position('center')\n",
    "\n",
    "\n",
    "\n",
    "plt.plot(x,y)\n",
    "plt.xlim(-5,5)\n",
    "plt.ylim(-5,5)\n",
    "plt.grid()\n",
    "plt.show()"
   ]
  },
  {
   "cell_type": "code",
   "execution_count": null,
   "metadata": {},
   "outputs": [],
   "source": [
    "np.exp(np.pi)"
   ]
  },
  {
   "cell_type": "code",
   "execution_count": null,
   "metadata": {},
   "outputs": [],
   "source": [
    "y = 0 \n",
    "x = np.pi\n",
    "\n",
    "for n in range(50):\n",
    "    y = y + ((x)**n/(np.math.factorial(n)))\n",
    "    print(y)"
   ]
  },
  {
   "cell_type": "code",
   "execution_count": null,
   "metadata": {},
   "outputs": [],
   "source": [
    "# for the taylor expansion of sin(x)\n",
    "y = 0 \n",
    "x = np.pi\n",
    "for n in range(10):\n",
    "    y = y + (((-1)**n)*((x**(2*n+1)/(np.math.factorial(2*n+1)))))\n",
    "    print(y)"
   ]
  },
  {
   "cell_type": "code",
   "execution_count": null,
   "metadata": {},
   "outputs": [],
   "source": [
    "np.sin(np.pi)"
   ]
  },
  {
   "cell_type": "code",
   "execution_count": null,
   "metadata": {},
   "outputs": [],
   "source": [
    "x = sy.Symbol('x')\n",
    "sy.expand((1+x)**(1/2))"
   ]
  },
  {
   "cell_type": "code",
   "execution_count": null,
   "metadata": {},
   "outputs": [],
   "source": [
    "sy.series(1/(1-x))"
   ]
  },
  {
   "cell_type": "code",
   "execution_count": null,
   "metadata": {},
   "outputs": [],
   "source": [
    "sy.diff(sy.cos(x))"
   ]
  },
  {
   "cell_type": "code",
   "execution_count": null,
   "metadata": {},
   "outputs": [],
   "source": [
    "sy.series(sy.cos(x),n=15)"
   ]
  },
  {
   "cell_type": "code",
   "execution_count": null,
   "metadata": {},
   "outputs": [],
   "source": [
    "y = 0 \n",
    "x = np.pi\n",
    "for n in range(100):\n",
    "    y = y + ((-1)**n*(x**(2*n))/(np.math.factorial(2*n)))\n",
    "    print(y)"
   ]
  },
  {
   "cell_type": "code",
   "execution_count": null,
   "metadata": {},
   "outputs": [],
   "source": [
    "\n",
    "sy.diff(1/(1-x),x)"
   ]
  },
  {
   "cell_type": "code",
   "execution_count": null,
   "metadata": {},
   "outputs": [],
   "source": [
    " sy.expand((2*x-1)**4)"
   ]
  },
  {
   "cell_type": "code",
   "execution_count": null,
   "metadata": {},
   "outputs": [],
   "source": [
    "x = np.linspace(-2*np.pi,2*np.pi,200)\n",
    "y = 16*x**4-32*x**3+24*x**2-8*x+1\n",
    "plt.style.use('classic')\n",
    "fig = plt.figure()\n",
    "ax = fig.add_subplot(1,1,1)\n",
    "ax.spines['left'].set_position('center')\n",
    "ax.spines['bottom'].set_position('center')\n",
    "plt.plot(x,y)\n",
    "plt.xlim(-8,8)\n",
    "plt.ylim(-300,300)\n",
    "plt.grid()\n",
    "plt.show()"
   ]
  },
  {
   "cell_type": "code",
   "execution_count": null,
   "metadata": {},
   "outputs": [],
   "source": [
    "f = lambda x: 16*x**4-32*x**3+24*x**2-8*x+1\n",
    "so.fsolve(f,-1)"
   ]
  },
  {
   "cell_type": "code",
   "execution_count": null,
   "metadata": {},
   "outputs": [],
   "source": [
    "expr = (sy.sin(x))/x\n",
    "sy.diff(expr,x)"
   ]
  },
  {
   "cell_type": "code",
   "execution_count": null,
   "metadata": {},
   "outputs": [],
   "source": [
    "sy.diff(sy.cos(x))"
   ]
  },
  {
   "cell_type": "code",
   "execution_count": 8,
   "metadata": {},
   "outputs": [
    {
     "name": "stdout",
     "output_type": "stream",
     "text": [
      "1.0\n",
      "0.9878407820314619\n",
      "0.9878654231283963\n",
      "0.9878654031539651\n",
      "0.9878654031626392\n",
      "0.9878654031626368\n",
      "0.9878654031626368\n",
      "0.9878654031626368\n",
      "0.9878654031626368\n",
      "0.9878654031626368\n",
      "0.9878654031626368\n",
      "0.9878654031626368\n",
      "0.9878654031626368\n",
      "0.9878654031626368\n",
      "0.9878654031626368\n",
      "0.9878654031626368\n",
      "0.9878654031626368\n",
      "0.9878654031626368\n",
      "0.9878654031626368\n",
      "0.9878654031626368\n"
     ]
    }
   ],
   "source": [
    "x = np.cos(np.sqrt(2))\n",
    "y = 0 \n",
    "for n in range(20):\n",
    "    y = y + ((-1)**n*(x)**(2*n)/(np.math.factorial(2*n)))\n",
    "    print(y)"
   ]
  },
  {
   "cell_type": "code",
   "execution_count": 4,
   "metadata": {},
   "outputs": [
    {
     "data": {
      "text/latex": [
       "$\\displaystyle x + x^{2} - \\frac{x^{3}}{6} - \\frac{x^{4}}{6} + \\frac{x^{5}}{120} + O\\left(x^{6}\\right)$"
      ],
      "text/plain": [
       "x + x**2 - x**3/6 - x**4/6 + x**5/120 + O(x**6)"
      ]
     },
     "execution_count": 4,
     "metadata": {},
     "output_type": "execute_result"
    }
   ],
   "source": [
    "x = sy.Symbol('x')\n",
    "sy.series((x+1)*sy.sin(x))"
   ]
  },
  {
   "cell_type": "markdown",
   "metadata": {},
   "source": [
    "- *Series expansion of $f(x) = e^x cos(x)$*"
   ]
  },
  {
   "cell_type": "code",
   "execution_count": 3,
   "metadata": {},
   "outputs": [
    {
     "data": {
      "text/latex": [
       "$\\displaystyle 1 + x - \\frac{x^{3}}{3} - \\frac{x^{4}}{6} - \\frac{x^{5}}{30} + O\\left(x^{6}\\right)$"
      ],
      "text/plain": [
       "1 + x - x**3/3 - x**4/6 - x**5/30 + O(x**6)"
      ]
     },
     "execution_count": 3,
     "metadata": {},
     "output_type": "execute_result"
    }
   ],
   "source": [
    "sy.series((sy.exp(x))*sy.cos(x))"
   ]
  },
  {
   "cell_type": "code",
   "execution_count": null,
   "metadata": {},
   "outputs": [],
   "source": []
  }
 ],
 "metadata": {
  "kernelspec": {
   "display_name": "Python 3",
   "language": "python",
   "name": "python3"
  },
  "language_info": {
   "codemirror_mode": {
    "name": "ipython",
    "version": 3
   },
   "file_extension": ".py",
   "mimetype": "text/x-python",
   "name": "python",
   "nbconvert_exporter": "python",
   "pygments_lexer": "ipython3",
   "version": "3.8.5"
  }
 },
 "nbformat": 4,
 "nbformat_minor": 4
}
