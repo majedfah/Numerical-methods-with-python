{
 "cells": [
  {
   "cell_type": "code",
   "execution_count": 23,
   "metadata": {},
   "outputs": [],
   "source": [
    "import numpy as np \n",
    "import matplotlib.pyplot as plt\n",
    "import sympy as sy \n",
    "import scipy.optimize as so\n",
    "%matplotlib inline\n",
    "plt.style.use('seaborn')"
   ]
  },
  {
   "cell_type": "markdown",
   "metadata": {},
   "source": [
    "## **Taylor Series**\n",
    "\n",
    "- **A Taylor series expansion** *is a representaion of a function by an infinite series of polynomials around a point.*\n",
    "- $f(x) = \\sum\\limits_{n=0}^{\\infty} \\frac {f(0)^\\left(n\\right)* x^n} {n!}$\n",
    "\n",
    " - *Which is the Maclurin Series when $x=a$*, that we will use here. \n"
   ]
  },
  {
   "cell_type": "markdown",
   "metadata": {},
   "source": [
    "- *Compute the Taylor series expansion of $f(x) = 5x^2+3x+5$,around ,$a = 0$ and $a =1$.*"
   ]
  },
  {
   "cell_type": "code",
   "execution_count": 24,
   "metadata": {},
   "outputs": [
    {
     "data": {
      "image/png": "[encoded data removed]",
      "text/plain": [
       "<Figure size 720x576 with 1 Axes>"
      ]
     },
     "metadata": {},
     "output_type": "display_data"
    }
   ],
   "source": [
    "x = np.linspace(-2*np.pi,2*np.pi,200)\n",
    "y = np.zeros(len(x))\n",
    "y_1 = 5*x**2+3*x+5\n",
    "y_2 = 10*x+3\n",
    "y_3 = 10\n",
    "plt.style.use('seaborn')\n",
    "fig = plt.figure(figsize=(10,8))\n",
    "ax = fig.add_subplot(1,1,1)\n",
    "ax.spines['left'].set_position('center')\n",
    "ax.spines['bottom'].set_position('center')\n",
    "plt.plot(x,y_1,'k')\n",
    "plt.plot(x,y_2,'g')\n",
    "plt.xlim(-7,7)\n",
    "plt.ylim(-100,100)\n",
    "ax.xaxis.set_ticks(np.arange(-7,7,1))\n",
    "ax.yaxis.set_ticks(np.arange(-100,100,10))\n",
    "\n",
    "plt.grid()\n",
    "plt.show()"
   ]
  },
  {
   "cell_type": "markdown",
   "metadata": {},
   "source": [
    "-*Approximate $e^2$ using different order Taylor series and print out the results.*\n",
    "- $e^x = \\sum\\limits_{n=0}^{\\infty} \\frac {x^n} {n!}$"
   ]
  },
  {
   "cell_type": "code",
   "execution_count": 25,
   "metadata": {},
   "outputs": [
    {
     "name": "stdout",
     "output_type": "stream",
     "text": [
      "1.0\n",
      "3.0\n",
      "5.0\n",
      "6.333333333333333\n",
      "7.0\n",
      "7.266666666666667\n",
      "7.355555555555555\n",
      "7.3809523809523805\n",
      "7.387301587301587\n",
      "7.3887125220458545\n",
      "7.388994708994708\n",
      "7.389046015712681\n",
      "7.3890545668323435\n",
      "7.389055882389215\n",
      "7.3890560703259105\n",
      "7.389056095384136\n",
      "7.389056098516415\n",
      "7.389056098884918\n",
      "7.389056098925863\n",
      "7.3890560989301735\n",
      "7.389056098930604\n",
      "7.389056098930645\n",
      "7.389056098930649\n",
      "7.389056098930649\n",
      "7.389056098930649\n",
      "7.389056098930649\n",
      "7.389056098930649\n",
      "7.389056098930649\n",
      "7.389056098930649\n",
      "7.389056098930649\n",
      "analatical =  7.389056098930649\n",
      "real =  7.38905609893065\n",
      "error =  1.7763568394002505e-15\n"
     ]
    }
   ],
   "source": [
    "exp = 0 \n",
    "x = 2 \n",
    "for i in range(30):\n",
    "    exp = exp + (x**i)/np.math.factorial(i)\n",
    "    print(exp)\n",
    "print('analatical = ',exp)\n",
    "print('real = ',np.exp(2))\n",
    "print('error = ',abs(np.exp(2)-exp))"
   ]
  },
  {
   "cell_type": "code",
   "execution_count": 26,
   "metadata": {},
   "outputs": [
    {
     "data": {
      "text/latex": [
       "$\\displaystyle 1 + x + x^{2} + x^{3} + x^{4} + x^{5} + x^{6} + x^{7} + O\\left(x^{8}\\right)$"
      ],
      "text/plain": [
       "1 + x + x**2 + x**3 + x**4 + x**5 + x**6 + x**7 + O(x**8)"
      ]
     },
     "execution_count": 26,
     "metadata": {},
     "output_type": "execute_result"
    }
   ],
   "source": [
    "x = sy.Symbol('x')\n",
    "sy.series(1/(1-x),n=8)"
   ]
  },
  {
   "cell_type": "code",
   "execution_count": 27,
   "metadata": {},
   "outputs": [
    {
     "data": {
      "text/latex": [
       "$\\displaystyle x + x^{2} + x^{3} + x^{4} + x^{5} + x^{6} + x^{7} + O\\left(x^{8}\\right)$"
      ],
      "text/plain": [
       "x + x**2 + x**3 + x**4 + x**5 + x**6 + x**7 + O(x**8)"
      ]
     },
     "execution_count": 27,
     "metadata": {},
     "output_type": "execute_result"
    }
   ],
   "source": [
    "\n",
    "sy.series(x/(1-x),n=8)\n"
   ]
  },
  {
   "cell_type": "code",
   "execution_count": 28,
   "metadata": {},
   "outputs": [
    {
     "data": {
      "text/latex": [
       "$\\displaystyle x - \\frac{x^{3}}{6} + O\\left(x^{4}\\right)$"
      ],
      "text/plain": [
       "x - x**3/6 + O(x**4)"
      ]
     },
     "execution_count": 28,
     "metadata": {},
     "output_type": "execute_result"
    }
   ],
   "source": [
    "sy.series(sy.sin(x),n=4)"
   ]
  },
  {
   "cell_type": "code",
   "execution_count": 29,
   "metadata": {},
   "outputs": [
    {
     "data": {
      "text/latex": [
       "$\\displaystyle 1 - \\frac{x^{2}}{2} + \\frac{x^{4}}{24} - \\frac{x^{6}}{720} + \\frac{x^{8}}{40320} + O\\left(x^{9}\\right)$"
      ],
      "text/plain": [
       "1 - x**2/2 + x**4/24 - x**6/720 + x**8/40320 + O(x**9)"
      ]
     },
     "execution_count": 29,
     "metadata": {},
     "output_type": "execute_result"
    }
   ],
   "source": [
    "sy.series(sy.cos(x),n=9)"
   ]
  },
  {
   "cell_type": "code",
   "execution_count": 30,
   "metadata": {},
   "outputs": [
    {
     "data": {
      "text/latex": [
       "$\\displaystyle 1 + x + \\frac{x^{2}}{2} + \\frac{x^{3}}{6} + \\frac{x^{4}}{24} + \\frac{x^{5}}{120} + \\frac{x^{6}}{720} + \\frac{x^{7}}{5040} + \\frac{x^{8}}{40320} + O\\left(x^{9}\\right)$"
      ],
      "text/plain": [
       "1 + x + x**2/2 + x**3/6 + x**4/24 + x**5/120 + x**6/720 + x**7/5040 + x**8/40320 + O(x**9)"
      ]
     },
     "execution_count": 30,
     "metadata": {},
     "output_type": "execute_result"
    }
   ],
   "source": [
    "sy.series(sy.exp(x),n=9)"
   ]
  },
  {
   "cell_type": "code",
   "execution_count": 31,
   "metadata": {},
   "outputs": [
    {
     "data": {
      "text/latex": [
       "$\\displaystyle x - \\frac{x^{2}}{2} + \\frac{x^{3}}{3} - \\frac{x^{4}}{4} + \\frac{x^{5}}{5} - \\frac{x^{6}}{6} + \\frac{x^{7}}{7} - \\frac{x^{8}}{8} + O\\left(x^{9}\\right)$"
      ],
      "text/plain": [
       "x - x**2/2 + x**3/3 - x**4/4 + x**5/5 - x**6/6 + x**7/7 - x**8/8 + O(x**9)"
      ]
     },
     "execution_count": 31,
     "metadata": {},
     "output_type": "execute_result"
    }
   ],
   "source": [
    "sy.series(sy.ln(1+x),n=9)"
   ]
  },
  {
   "cell_type": "code",
   "execution_count": 32,
   "metadata": {},
   "outputs": [
    {
     "data": {
      "text/plain": [
       "1.0"
      ]
     },
     "execution_count": 32,
     "metadata": {},
     "output_type": "execute_result"
    }
   ],
   "source": [
    "1**-2"
   ]
  },
  {
   "cell_type": "code",
   "execution_count": 33,
   "metadata": {},
   "outputs": [
    {
     "data": {
      "text/plain": [
       "1.0"
      ]
     },
     "execution_count": 33,
     "metadata": {},
     "output_type": "execute_result"
    }
   ],
   "source": [
    "1**-2"
   ]
  },
  {
   "cell_type": "code",
   "execution_count": 34,
   "metadata": {},
   "outputs": [
    {
     "name": "stdout",
     "output_type": "stream",
     "text": [
      "-1.0\n",
      "-0.5\n",
      "-1.4583333333333335\n",
      "-1.589084954909337\n",
      "-0.5624964495678944\n",
      "0.43222435836224826\n",
      "-0.5681782350163489\n",
      "0.4304641183101423\n",
      "-0.5695922701321425\n",
      "0.43004827789705025\n",
      "-0.5699601806672823\n",
      "0.4299418809474377\n",
      "-0.5700594384736629\n",
      "0.42991322433239454\n",
      "-0.5700869868320563\n",
      "0.4299052339120152\n",
      "-0.5700948005140615\n",
      "0.42990295159655356\n",
      "-0.5700970540957035\n",
      "0.4299022883283158\n",
      "-0.570097712623484\n",
      "0.42990209308139893\n",
      "-0.5700979070792108\n",
      "0.42990203503453095\n",
      "-0.5700979649927774\n",
      "0.42990201764067815\n",
      "-0.570097982363995\n",
      "0.42990201239483705\n",
      "-0.570097987605967\n"
     ]
    }
   ],
   "source": [
    "# this code is to compute the maclaurin series for ln(1+x)\n",
    "\n",
    "x = 1 \n",
    "for i in range(1,30):\n",
    "    x = x + ((-1)**i-1*(x)**i/(i))\n",
    "    print(x)"
   ]
  },
  {
   "cell_type": "code",
   "execution_count": 53,
   "metadata": {},
   "outputs": [
    {
     "name": "stderr",
     "output_type": "stream",
     "text": [
      "<ipython-input-53-d49729bf680a>:3: RuntimeWarning: invalid value encountered in log\n",
      "  y = np.log(1+x)\n"
     ]
    },
    {
     "data": {
      "image/png": "[encoded data removed]",
      "text/plain": [
       "<Figure size 800x640 with 1 Axes>"
      ]
     },
     "metadata": {},
     "output_type": "display_data"
    }
   ],
   "source": [
    "plt.style.use('seaborn')\n",
    "x = np.linspace(-2*np.pi,2*np.pi)\n",
    "y = np.log(1+x)\n",
    "fig = plt.figure(figsize=(10,8))\n",
    "ax = fig.add_subplot(1,1,1)\n",
    "ax.spines['left'].set_position('center')\n",
    "ax.spines['bottom'].set_position('center')\n",
    "\n",
    "\n",
    "\n",
    "plt.plot(x,y)\n",
    "plt.xlim(-5,5)\n",
    "plt.ylim(-5,5)\n",
    "plt.grid()\n",
    "plt.show()"
   ]
  },
  {
   "cell_type": "code",
   "execution_count": 36,
   "metadata": {},
   "outputs": [
    {
     "data": {
      "text/plain": [
       "23.140692632779267"
      ]
     },
     "execution_count": 36,
     "metadata": {},
     "output_type": "execute_result"
    }
   ],
   "source": [
    "np.exp(np.pi)"
   ]
  },
  {
   "cell_type": "code",
   "execution_count": 37,
   "metadata": {},
   "outputs": [
    {
     "name": "stdout",
     "output_type": "stream",
     "text": [
      "1.0\n",
      "4.141592653589793\n",
      "9.076394854134472\n",
      "14.244107634184441\n",
      "18.30281976060121\n",
      "20.852983800478555\n",
      "22.188246569333145\n",
      "22.787511098653937\n",
      "23.02284172901283\n",
      "23.104987615623955\n",
      "23.13079450701397\n",
      "23.138164937959683\n",
      "23.140094512269087\n",
      "23.140560815074856\n",
      "23.140665453179782\n",
      "23.14068736853323\n",
      "23.140691671602816\n",
      "23.140692466808215\n",
      "23.14069260559774\n",
      "23.14069262854617\n",
      "23.140692632150902\n",
      "23.14069263269017\n",
      "23.140692632767177\n",
      "23.140692632777697\n",
      "23.140692632779075\n",
      "23.14069263277925\n",
      "23.14069263277927\n",
      "23.140692632779274\n",
      "23.140692632779274\n",
      "23.140692632779274\n",
      "23.140692632779274\n",
      "23.140692632779274\n",
      "23.140692632779274\n",
      "23.140692632779274\n",
      "23.140692632779274\n",
      "23.140692632779274\n",
      "23.140692632779274\n",
      "23.140692632779274\n",
      "23.140692632779274\n",
      "23.140692632779274\n",
      "23.140692632779274\n",
      "23.140692632779274\n",
      "23.140692632779274\n",
      "23.140692632779274\n",
      "23.140692632779274\n",
      "23.140692632779274\n",
      "23.140692632779274\n",
      "23.140692632779274\n",
      "23.140692632779274\n",
      "23.140692632779274\n"
     ]
    }
   ],
   "source": [
    "y = 0 \n",
    "x = np.pi\n",
    "\n",
    "for n in range(50):\n",
    "    y = y + ((x)**n/(np.math.factorial(n)))\n",
    "    print(y)"
   ]
  },
  {
   "cell_type": "code",
   "execution_count": 38,
   "metadata": {},
   "outputs": [
    {
     "name": "stdout",
     "output_type": "stream",
     "text": [
      "3.141592653589793\n",
      "-2.0261201264601763\n",
      "0.5240439134171688\n",
      "-0.07522061590362306\n",
      "0.006925270707505135\n",
      "-0.00044516023820921277\n",
      "2.1142567558399565e-05\n",
      "-7.727858894306387e-07\n",
      "2.2419510716912098e-08\n",
      "-5.28918280357759e-10\n"
     ]
    }
   ],
   "source": [
    "# for the taylor expansion of sin(x)\n",
    "y = 0 \n",
    "x = np.pi\n",
    "for n in range(10):\n",
    "    y = y + (((-1)**n)*((x**(2*n+1)/(np.math.factorial(2*n+1)))))\n",
    "    print(y)"
   ]
  },
  {
   "cell_type": "code",
   "execution_count": 39,
   "metadata": {},
   "outputs": [
    {
     "data": {
      "text/plain": [
       "1.2246467991473532e-16"
      ]
     },
     "execution_count": 39,
     "metadata": {},
     "output_type": "execute_result"
    }
   ],
   "source": [
    "np.sin(np.pi)"
   ]
  },
  {
   "cell_type": "code",
   "execution_count": 40,
   "metadata": {},
   "outputs": [
    {
     "data": {
      "text/latex": [
       "$\\displaystyle \\left(x + 1\\right)^{0.5}$"
      ],
      "text/plain": [
       "(x + 1)**0.5"
      ]
     },
     "execution_count": 40,
     "metadata": {},
     "output_type": "execute_result"
    }
   ],
   "source": [
    "x = sy.Symbol('x')\n",
    "sy.expand((1+x)**(1/2))"
   ]
  },
  {
   "cell_type": "code",
   "execution_count": 41,
   "metadata": {},
   "outputs": [
    {
     "data": {
      "text/latex": [
       "$\\displaystyle 1 + x + x^{2} + x^{3} + x^{4} + x^{5} + O\\left(x^{6}\\right)$"
      ],
      "text/plain": [
       "1 + x + x**2 + x**3 + x**4 + x**5 + O(x**6)"
      ]
     },
     "execution_count": 41,
     "metadata": {},
     "output_type": "execute_result"
    }
   ],
   "source": [
    "sy.series(1/(1-x))"
   ]
  },
  {
   "cell_type": "code",
   "execution_count": 42,
   "metadata": {},
   "outputs": [
    {
     "data": {
      "text/latex": [
       "$\\displaystyle - \\sin{\\left(x \\right)}$"
      ],
      "text/plain": [
       "-sin(x)"
      ]
     },
     "execution_count": 42,
     "metadata": {},
     "output_type": "execute_result"
    }
   ],
   "source": [
    "sy.diff(sy.cos(x))"
   ]
  },
  {
   "cell_type": "code",
   "execution_count": 43,
   "metadata": {},
   "outputs": [
    {
     "data": {
      "text/latex": [
       "$\\displaystyle 1 - \\frac{x^{2}}{2} + \\frac{x^{4}}{24} - \\frac{x^{6}}{720} + \\frac{x^{8}}{40320} - \\frac{x^{10}}{3628800} + \\frac{x^{12}}{479001600} - \\frac{x^{14}}{87178291200} + O\\left(x^{15}\\right)$"
      ],
      "text/plain": [
       "1 - x**2/2 + x**4/24 - x**6/720 + x**8/40320 - x**10/3628800 + x**12/479001600 - x**14/87178291200 + O(x**15)"
      ]
     },
     "execution_count": 43,
     "metadata": {},
     "output_type": "execute_result"
    }
   ],
   "source": [
    "sy.series(sy.cos(x),n=15)"
   ]
  },
  {
   "cell_type": "code",
   "execution_count": 44,
   "metadata": {},
   "outputs": [
    {
     "name": "stdout",
     "output_type": "stream",
     "text": [
      "1.0\n",
      "-3.934802200544679\n",
      "0.1239099258720886\n",
      "-1.2113528429825007\n",
      "-0.9760222126236076\n",
      "-1.0018291040136216\n",
      "-0.9998995297042177\n",
      "-1.0000041678091425\n",
      "-0.9999998647395555\n",
      "-1.0000000035290801\n"
     ]
    }
   ],
   "source": [
    "y = 0 \n",
    "x = np.pi\n",
    "for n in range(10):\n",
    "    y = y + ((-1)**n*(x**(2*n))/(np.math.factorial(2*n)))\n",
    "    print(y)"
   ]
  },
  {
   "cell_type": "code",
   "execution_count": 49,
   "metadata": {},
   "outputs": [
    {
     "data": {
      "image/png": "[encoded data removed]",
      "text/plain": [
       "<Figure size 640x440 with 1 Axes>"
      ]
     },
     "metadata": {},
     "output_type": "display_data"
    }
   ],
   "source": [
    "x = np.linspace(-2*np.pi,2*np.pi,200)\n",
    "y = 16*x**4-32*x**3+24*x**2-8*x+1\n",
    "plt.style.use('seaborn')\n",
    "fig = plt.figure()\n",
    "ax = fig.add_subplot(1,1,1)\n",
    "ax.spines['left'].set_position('center')\n",
    "ax.spines['bottom'].set_position('center')\n",
    "plt.plot(x,y)\n",
    "plt.xlim(-8,8)\n",
    "plt.ylim(-100,100)\n",
    "plt.grid()\n",
    "plt.show()"
   ]
  },
  {
   "cell_type": "code",
   "execution_count": 50,
   "metadata": {},
   "outputs": [
    {
     "name": "stdout",
     "output_type": "stream",
     "text": [
      "1.0\n",
      "0.9878407820314619\n",
      "0.9878654231283963\n",
      "0.9878654031539651\n",
      "0.9878654031626392\n",
      "0.9878654031626368\n",
      "0.9878654031626368\n",
      "0.9878654031626368\n",
      "0.9878654031626368\n",
      "0.9878654031626368\n",
      "0.9878654031626368\n",
      "0.9878654031626368\n",
      "0.9878654031626368\n",
      "0.9878654031626368\n",
      "0.9878654031626368\n",
      "0.9878654031626368\n",
      "0.9878654031626368\n",
      "0.9878654031626368\n",
      "0.9878654031626368\n",
      "0.9878654031626368\n"
     ]
    }
   ],
   "source": [
    "x = np.cos(np.sqrt(2))\n",
    "y = 0 \n",
    "for n in range(20):\n",
    "    y = y + ((-1)**n*(x)**(2*n)/(np.math.factorial(2*n)))\n",
    "    print(y)"
   ]
  },
  {
   "cell_type": "code",
   "execution_count": 56,
   "metadata": {},
   "outputs": [
    {
     "data": {
      "text/latex": [
       "$\\displaystyle x + x^{2} - \\frac{x^{3}}{6} - \\frac{x^{4}}{6} + \\frac{x^{5}}{120} + O\\left(x^{6}\\right)$"
      ],
      "text/plain": [
       "x + x**2 - x**3/6 - x**4/6 + x**5/120 + O(x**6)"
      ]
     },
     "execution_count": 56,
     "metadata": {},
     "output_type": "execute_result"
    }
   ],
   "source": [
    "x = sy.Symbol('x')\n",
    "sy.series((x+1)*sy.sin(x))"
   ]
  },
  {
   "cell_type": "markdown",
   "metadata": {},
   "source": [
    "- *Series expansion of $f(x) = e^x cos(x)$*"
   ]
  },
  {
   "cell_type": "code",
   "execution_count": 57,
   "metadata": {},
   "outputs": [
    {
     "data": {
      "text/latex": [
       "$\\displaystyle 1 + x - \\frac{x^{3}}{3} - \\frac{x^{4}}{6} - \\frac{x^{5}}{30} + O\\left(x^{6}\\right)$"
      ],
      "text/plain": [
       "1 + x - x**3/3 - x**4/6 - x**5/30 + O(x**6)"
      ]
     },
     "execution_count": 57,
     "metadata": {},
     "output_type": "execute_result"
    }
   ],
   "source": [
    "# multiplication of series with some function!\n",
    "sy.series((sy.exp(x))*(sy.cos(x)))"
   ]
  }
 ],
 "metadata": {
  "interpreter": {
   "hash": "0fa1be1a079c5715466ca32bd30e38be88abe58e4d0b13338080b10021663522"
  },
  "kernelspec": {
   "display_name": "Python 3",
   "language": "python",
   "name": "python3"
  },
  "language_info": {
   "codemirror_mode": {
    "name": "ipython",
    "version": 3
   },
   "file_extension": ".py",
   "mimetype": "text/x-python",
   "name": "python",
   "nbconvert_exporter": "python",
   "pygments_lexer": "ipython3",
   "version": "3.8.5"
  }
 },
 "nbformat": 4,
 "nbformat_minor": 4
}
